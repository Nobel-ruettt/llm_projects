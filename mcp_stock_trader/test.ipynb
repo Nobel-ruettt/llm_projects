{
 "cells": [
  {
   "cell_type": "code",
   "execution_count": 1,
   "id": "3f5a11f2",
   "metadata": {},
   "outputs": [
    {
     "data": {
      "text/plain": [
       "True"
      ]
     },
     "execution_count": 1,
     "metadata": {},
     "output_type": "execute_result"
    }
   ],
   "source": [
    "from dotenv import load_dotenv\n",
    "from agents import Agent, Runner, trace\n",
    "from agents.mcp import MCPServerStdio\n",
    "from IPython.display import display, Markdown\n",
    "\n",
    "load_dotenv(override=True)"
   ]
  },
  {
   "cell_type": "code",
   "execution_count": 2,
   "id": "6ef29e43",
   "metadata": {},
   "outputs": [
    {
     "data": {
      "text/plain": [
       "'Completed. Latest details:\\n{\"name\": \"ed\", \"balance\": 8720.28568, \"strategy\": \"\", \"holdings\": {\"AMZN\": 6}, \"transactions\": [{\"symbol\": \"AMZN\", \"quantity\": 3, \"price\": 213.6264, \"timestamp\": \"2025-06-12 11:40:42\", \"rationale\": \"Because this bookstore website looks promising\"}, {\"symbol\": \"AMZN\", \"quantity\": 3, \"price\": 212.94504, \"timestamp\": \"2025-06-19 18:44:31\", \"rationale\": \"Because this bookstore website looks promising\"}], \"portfolio_value_time_series\": [[\"2025-06-12 11:40:42\", 9998.720800000001], [\"2025-06-12 11:40:56\", 9998.720800000001], [\"2025-06-19 18:44:31\", 9995.405680000002]], \"total_portfolio_value\": 9995.405680000002, \"total_profit_loss\": -4.5943200000001525}'"
      ]
     },
     "execution_count": 2,
     "metadata": {},
     "output_type": "execute_result"
    }
   ],
   "source": [
    "from accounts import Account\n",
    "\n",
    "account = Account.get(\"Ed\")\n",
    "account.buy_shares(\"AMZN\", 3, \"Because this bookstore website looks promising\")"
   ]
  },
  {
   "cell_type": "code",
   "execution_count": 3,
   "id": "9bfda1dd",
   "metadata": {},
   "outputs": [
    {
     "data": {
      "text/plain": [
       "'{\"name\": \"ed\", \"balance\": 8720.28568, \"strategy\": \"\", \"holdings\": {\"AMZN\": 6}, \"transactions\": [{\"symbol\": \"AMZN\", \"quantity\": 3, \"price\": 213.6264, \"timestamp\": \"2025-06-12 11:40:42\", \"rationale\": \"Because this bookstore website looks promising\"}, {\"symbol\": \"AMZN\", \"quantity\": 3, \"price\": 212.94504, \"timestamp\": \"2025-06-19 18:44:31\", \"rationale\": \"Because this bookstore website looks promising\"}], \"portfolio_value_time_series\": [[\"2025-06-12 11:40:42\", 9998.720800000001], [\"2025-06-12 11:40:56\", 9998.720800000001], [\"2025-06-19 18:44:31\", 9995.405680000002], [\"2025-06-19 18:44:37\", 9995.405680000002]], \"total_portfolio_value\": 9995.405680000002, \"total_profit_loss\": -4.5943200000001525}'"
      ]
     },
     "execution_count": 3,
     "metadata": {},
     "output_type": "execute_result"
    }
   ],
   "source": [
    "account.report()"
   ]
  },
  {
   "cell_type": "code",
   "execution_count": 4,
   "id": "aa3d6b66",
   "metadata": {},
   "outputs": [
    {
     "data": {
      "text/plain": [
       "[{'symbol': 'AMZN',\n",
       "  'quantity': 3,\n",
       "  'price': 213.6264,\n",
       "  'timestamp': '2025-06-12 11:40:42',\n",
       "  'rationale': 'Because this bookstore website looks promising'},\n",
       " {'symbol': 'AMZN',\n",
       "  'quantity': 3,\n",
       "  'price': 212.94504,\n",
       "  'timestamp': '2025-06-19 18:44:31',\n",
       "  'rationale': 'Because this bookstore website looks promising'}]"
      ]
     },
     "execution_count": 4,
     "metadata": {},
     "output_type": "execute_result"
    }
   ],
   "source": [
    "account.list_transactions()"
   ]
  },
  {
   "cell_type": "code",
   "execution_count": 5,
   "id": "34c870c3",
   "metadata": {},
   "outputs": [
    {
     "data": {
      "text/plain": [
       "[Tool(name='get_balance', description='Get the cash balance of the given account name.\\n\\n    Args:\\n        name: The name of the account holder\\n    ', inputSchema={'properties': {'name': {'title': 'Name', 'type': 'string'}}, 'required': ['name'], 'title': 'get_balanceArguments', 'type': 'object'}, annotations=None),\n",
       " Tool(name='get_holdings', description='Get the holdings of the given account name.\\n\\n    Args:\\n        name: The name of the account holder\\n    ', inputSchema={'properties': {'name': {'title': 'Name', 'type': 'string'}}, 'required': ['name'], 'title': 'get_holdingsArguments', 'type': 'object'}, annotations=None),\n",
       " Tool(name='buy_shares', description=\"Buy shares of a stock.\\n\\n    Args:\\n        name: The name of the account holder\\n        symbol: The symbol of the stock\\n        quantity: The quantity of shares to buy\\n        rationale: The rationale for the purchase and fit with the account's strategy\\n    \", inputSchema={'properties': {'name': {'title': 'Name', 'type': 'string'}, 'symbol': {'title': 'Symbol', 'type': 'string'}, 'quantity': {'title': 'Quantity', 'type': 'integer'}, 'rationale': {'title': 'Rationale', 'type': 'string'}}, 'required': ['name', 'symbol', 'quantity', 'rationale'], 'title': 'buy_sharesArguments', 'type': 'object'}, annotations=None),\n",
       " Tool(name='sell_shares', description=\"Sell shares of a stock.\\n\\n    Args:\\n        name: The name of the account holder\\n        symbol: The symbol of the stock\\n        quantity: The quantity of shares to sell\\n        rationale: The rationale for the sale and fit with the account's strategy\\n    \", inputSchema={'properties': {'name': {'title': 'Name', 'type': 'string'}, 'symbol': {'title': 'Symbol', 'type': 'string'}, 'quantity': {'title': 'Quantity', 'type': 'integer'}, 'rationale': {'title': 'Rationale', 'type': 'string'}}, 'required': ['name', 'symbol', 'quantity', 'rationale'], 'title': 'sell_sharesArguments', 'type': 'object'}, annotations=None),\n",
       " Tool(name='change_strategy', description='At your discretion, if you choose to, call this to change your investment strategy for the future.\\n\\n    Args:\\n        name: The name of the account holder\\n        strategy: The new strategy for the account\\n    ', inputSchema={'properties': {'name': {'title': 'Name', 'type': 'string'}, 'strategy': {'title': 'Strategy', 'type': 'string'}}, 'required': ['name', 'strategy'], 'title': 'change_strategyArguments', 'type': 'object'}, annotations=None)]"
      ]
     },
     "execution_count": 5,
     "metadata": {},
     "output_type": "execute_result"
    }
   ],
   "source": [
    "params = {\"command\": \"uv\", \"args\": [\"run\", \"accounts_server.py\"]}\n",
    "async with MCPServerStdio(params=params, client_session_timeout_seconds=30) as server:\n",
    "    mcp_tools = await server.list_tools()\n",
    "mcp_tools"
   ]
  },
  {
   "cell_type": "code",
   "execution_count": 6,
   "id": "5eed40b6",
   "metadata": {},
   "outputs": [
    {
     "data": {
      "text/markdown": [
       "Ed, your current cash balance is approximately $8,720.29. You hold 6 shares of Amazon (AMZN) in your account. If you need any more details or want to make transactions, just let me know!"
      ],
      "text/plain": [
       "<IPython.core.display.Markdown object>"
      ]
     },
     "metadata": {},
     "output_type": "display_data"
    }
   ],
   "source": [
    "instructions = \"You are able to manage an account for a client, and answer questions about the account.\"\n",
    "request = \"My name is Ed and my account is under the name Ed. What's my balance and my holdings?\"\n",
    "model = \"gpt-4.1-mini\"\n",
    "\n",
    "async with MCPServerStdio(params=params, client_session_timeout_seconds=30) as mcp_server:\n",
    "    agent = Agent(name=\"account_manager\", instructions=instructions, model=model, mcp_servers=[mcp_server])\n",
    "    with trace(\"account_manager\"):\n",
    "        result = await Runner.run(agent, request)\n",
    "    display(Markdown(result.final_output))"
   ]
  },
  {
   "cell_type": "markdown",
   "id": "1c2bdc85",
   "metadata": {},
   "source": [
    "Now Mcp Client Will be used\n"
   ]
  },
  {
   "cell_type": "code",
   "execution_count": 9,
   "id": "282fe8ed",
   "metadata": {},
   "outputs": [
    {
     "data": {
      "text/markdown": [
       "Ed, your current cash balance is approximately $8,720.29. In terms of holdings, you have 6 shares of Amazon (AMZN). Is there anything specific you would like to do with your account?"
      ],
      "text/plain": [
       "<IPython.core.display.Markdown object>"
      ]
     },
     "metadata": {},
     "output_type": "display_data"
    },
    {
     "name": "stdout",
     "output_type": "stream",
     "text": [
      "{\"name\": \"ed\", \"balance\": 8720.28568, \"strategy\": \"\", \"holdings\": {\"AMZN\": 6}, \"transactions\": [{\"symbol\": \"AMZN\", \"quantity\": 3, \"price\": 213.6264, \"timestamp\": \"2025-06-12 11:40:42\", \"rationale\": \"Because this bookstore website looks promising\"}, {\"symbol\": \"AMZN\", \"quantity\": 3, \"price\": 212.94504, \"timestamp\": \"2025-06-19 18:44:31\", \"rationale\": \"Because this bookstore website looks promising\"}], \"portfolio_value_time_series\": [[\"2025-06-12 11:40:42\", 9998.720800000001], [\"2025-06-12 11:40:56\", 9998.720800000001], [\"2025-06-19 18:44:31\", 9995.405680000002], [\"2025-06-19 18:44:37\", 9995.405680000002], [\"2025-06-19 18:50:32\", 9995.405680000002]], \"total_portfolio_value\": 9995.405680000002, \"total_profit_loss\": -4.5943200000001525}\n"
     ]
    }
   ],
   "source": [
    "from accounts_client import get_accounts_tools_openai, read_accounts_resource, list_accounts_tools\n",
    "\n",
    "\n",
    "openai_tools = await get_accounts_tools_openai()\n",
    "with trace(\"account_mcp_client\"):\n",
    "    agent = Agent(name=\"account_manager\", instructions=instructions, model=model, tools=openai_tools)\n",
    "    result = await Runner.run(agent, request)\n",
    "    display(Markdown(result.final_output))\n",
    "\n",
    "context = await read_accounts_resource(\"ed\")\n",
    "print(context)"
   ]
  }
 ],
 "metadata": {
  "kernelspec": {
   "display_name": ".venv",
   "language": "python",
   "name": "python3"
  },
  "language_info": {
   "codemirror_mode": {
    "name": "ipython",
    "version": 3
   },
   "file_extension": ".py",
   "mimetype": "text/x-python",
   "name": "python",
   "nbconvert_exporter": "python",
   "pygments_lexer": "ipython3",
   "version": "3.12.3"
  }
 },
 "nbformat": 4,
 "nbformat_minor": 5
}
