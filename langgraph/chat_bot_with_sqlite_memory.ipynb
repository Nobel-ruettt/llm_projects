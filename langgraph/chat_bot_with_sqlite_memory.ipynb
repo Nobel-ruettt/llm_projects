{
 "cells": [
  {
   "cell_type": "code",
   "execution_count": 25,
   "id": "fc8c39e9",
   "metadata": {},
   "outputs": [],
   "source": [
    "from dotenv import load_dotenv\n",
    "import os\n",
    "\n",
    "load_dotenv(override=True)\n",
    "smtp_configuration = {\n",
    "    \"server\": os.getenv(\"SMTP_SERVER\"),\n",
    "    \"port\": os.getenv(\"SMTP_PORT\"),\n",
    "    \"username\": os.getenv(\"SMTP_USERNAME\"),\n",
    "    \"password\": os.getenv(\"SMTP_PASSWORD\"),\n",
    "    \"from\": os.getenv(\"SMTP_SENDER_EMAIL\")\n",
    "}"
   ]
  },
  {
   "cell_type": "markdown",
   "id": "bbae2c09",
   "metadata": {},
   "source": [
    "Lets Set up the tools"
   ]
  },
  {
   "cell_type": "code",
   "execution_count": 26,
   "id": "d2546780",
   "metadata": {},
   "outputs": [],
   "source": [
    "from email.mime.multipart import MIMEMultipart\n",
    "from email.mime.text import MIMEText\n",
    "from email.utils import formatdate\n",
    "import smtplib\n",
    "from langchain_community.tools import Tool\n",
    "from langchain_community.utilities import GoogleSerperAPIWrapper\n",
    "\n",
    "# Create the Serper search tool\n",
    "search = GoogleSerperAPIWrapper()\n",
    "serper_tool = Tool(\n",
    "    name=\"Search\",\n",
    "    func=search.run,\n",
    "    description=\"Useful for when you need more information from an online search\"\n",
    ")\n",
    "\n",
    "def push(text: str):\n",
    "     \"\"\"Send a push notification as an email to the user\"\"\"\n",
    "     msg = MIMEMultipart()\n",
    "     msg['From'] = smtp_configuration[\"from\"]\n",
    "     msg['To'] = \"nobelnurulislam@gmail.com\"\n",
    "     msg['Subject'] = \"New Notification from LangGraph\"\n",
    "     msg['Date'] = formatdate(localtime=True) \n",
    "\n",
    "     msg.attach(MIMEText(text, 'html'))\n",
    "\n",
    "     with smtplib.SMTP_SSL(smtp_configuration[\"server\"], smtp_configuration[\"port\"]) as server:\n",
    "            server.login(smtp_configuration[\"username\"], smtp_configuration[\"password\"])\n",
    "            # Combine all recipients\n",
    "            recipients = [\"nobelnurulislam@gmail.com\"]\n",
    "            server.sendmail(smtp_configuration[\"from\"], recipients, msg.as_string())\n",
    "\n",
    "tool_push = Tool(\n",
    "    name=\"send_push_notification\",\n",
    "    func=push,\n",
    "    description=\"Sends a push notification to the user via email\"\n",
    ")\n",
    "\n",
    "tools = [serper_tool, tool_push]"
   ]
  },
  {
   "cell_type": "markdown",
   "id": "5ee04146",
   "metadata": {},
   "source": [
    "Initialize the Graph"
   ]
  },
  {
   "cell_type": "code",
   "execution_count": 27,
   "id": "07c0e701",
   "metadata": {},
   "outputs": [],
   "source": [
    "from typing import Annotated, TypedDict\n",
    "from langgraph.graph.message import add_messages\n",
    "from langgraph.graph import StateGraph\n",
    "\n",
    "class State(TypedDict):\n",
    "    messages: Annotated[list, add_messages]\n",
    "\n",
    "graph_builder = StateGraph(State)"
   ]
  },
  {
   "cell_type": "markdown",
   "id": "01db9003",
   "metadata": {},
   "source": [
    "Lets create the nodes"
   ]
  },
  {
   "cell_type": "code",
   "execution_count": 28,
   "id": "e547b2f1",
   "metadata": {},
   "outputs": [],
   "source": [
    "from langchain_openai import ChatOpenAI\n",
    "from langgraph.prebuilt import ToolNode\n",
    "\n",
    "def chatbot(state: State):\n",
    "    llm = ChatOpenAI(model_name=\"gpt-4o-mini\")\n",
    "    llm_with_tools = llm.bind_tools(tools)\n",
    "    response = llm_with_tools.invoke(state[\"messages\"])\n",
    "    return {\"messages\": [response]}\n",
    "\n",
    "toolNode = ToolNode(tools=tools)"
   ]
  },
  {
   "cell_type": "markdown",
   "id": "8eb3cc0f",
   "metadata": {},
   "source": [
    "Build the graph"
   ]
  },
  {
   "cell_type": "code",
   "execution_count": 29,
   "id": "d5f6635e",
   "metadata": {},
   "outputs": [
    {
     "data": {
      "text/plain": [
       "<langgraph.graph.state.StateGraph at 0x284446b99d0>"
      ]
     },
     "execution_count": 29,
     "metadata": {},
     "output_type": "execute_result"
    }
   ],
   "source": [
    "from langgraph.graph import START, END\n",
    "from langgraph.prebuilt import tools_condition\n",
    "\n",
    "graph_builder.add_node(\"chatbot\", chatbot)\n",
    "graph_builder.add_node(\"tools\", toolNode)\n",
    "\n",
    "graph_builder.add_edge(START, \"chatbot\")\n",
    "graph_builder.add_conditional_edges(\"chatbot\", tools_condition, \"tools\")\n",
    "graph_builder.add_edge(\"tools\", \"chatbot\")\n",
    "graph_builder.add_edge(\"chatbot\", END)"
   ]
  },
  {
   "cell_type": "markdown",
   "id": "163ae44c",
   "metadata": {},
   "source": [
    "Adding Sqlite memory and compile the graph"
   ]
  },
  {
   "cell_type": "code",
   "execution_count": null,
   "id": "ee2f847f",
   "metadata": {},
   "outputs": [],
   "source": [
    "import sqlite3\n",
    "from langgraph.checkpoint.sqlite import SqliteSaver\n",
    "\n",
    "db_path = \"memory.db\"\n",
    "conn = sqlite3.connect(db_path, check_same_thread=False)\n",
    "sql_memory = SqliteSaver(conn)\n",
    "\n",
    "graph = graph_builder.compile(checkpointer=sql_memory)\n",
    "display(Image(graph.get_graph().draw_mermaid_png()))"
   ]
  },
  {
   "cell_type": "markdown",
   "id": "5567b39c",
   "metadata": {},
   "source": [
    "Time to Use the gradio to run the chat interface"
   ]
  },
  {
   "cell_type": "code",
   "execution_count": null,
   "id": "e0aa8a85",
   "metadata": {},
   "outputs": [],
   "source": [
    "import gradio as gr\n",
    "\n",
    "config = {\"configurable\": {\"thread_id\": \"1\"}}\n",
    "\n",
    "def chat(message, history):\n",
    "    response = graph.invoke({\"messages\": [{\"role\": \"user\", \"content\": message}]}, config)\n",
    "    return response[\"messages\"][-1].content\n",
    "\n",
    "\n",
    "chat_interface = gr.ChatInterface(chat, type=\"messages\", theme=\"soft\")\n",
    "chat_interface.launch()"
   ]
  }
 ],
 "metadata": {
  "kernelspec": {
   "display_name": ".venv",
   "language": "python",
   "name": "python3"
  },
  "language_info": {
   "codemirror_mode": {
    "name": "ipython",
    "version": 3
   },
   "file_extension": ".py",
   "mimetype": "text/x-python",
   "name": "python",
   "nbconvert_exporter": "python",
   "pygments_lexer": "ipython3",
   "version": "3.12.10"
  }
 },
 "nbformat": 4,
 "nbformat_minor": 5
}
