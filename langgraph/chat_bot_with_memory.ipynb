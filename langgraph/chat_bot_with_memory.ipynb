{
 "cells": [
  {
   "cell_type": "markdown",
   "metadata": {},
   "source": [
    "In this code i want to show you how to use memory \n",
    "and checkpoint so that langgraph remember the conversation"
   ]
  },
  {
   "cell_type": "code",
   "execution_count": 1,
   "metadata": {},
   "outputs": [
    {
     "data": {
      "text/plain": [
       "<langgraph.graph.state.StateGraph at 0x272f3f1f830>"
      ]
     },
     "execution_count": 1,
     "metadata": {},
     "output_type": "execute_result"
    }
   ],
   "source": [
    "from typing import Annotated\n",
    "from dotenv import load_dotenv\n",
    "from typing_extensions import TypedDict\n",
    "from langgraph.graph.message import add_messages\n",
    "from langgraph.graph import StateGraph\n",
    "from langchain_openai import ChatOpenAI\n",
    "from langgraph.prebuilt import ToolNode\n",
    "from langgraph.graph import START, END\n",
    "from langgraph.prebuilt import tools_condition\n",
    "from langchain_community.tools import Tool\n",
    "from langchain_community.utilities import GoogleSerperAPIWrapper\n",
    "\n",
    "load_dotenv(override=True)\n",
    "\n",
    "\n",
    "\n",
    "# Create the Serper search tool\n",
    "search = GoogleSerperAPIWrapper()\n",
    "serper_tool = Tool(\n",
    "    name=\"Search\",\n",
    "    func=search.run,\n",
    "    description=\"Useful for when you need to answer questions about current events or find up-to-date information\"\n",
    ")\n",
    "tools = [serper_tool]\n",
    "\n",
    "class State(TypedDict):\n",
    "    messages: Annotated[list, add_messages]\n",
    "\n",
    "graph_builder = StateGraph(State)\n",
    "\n",
    "# chat bot with tools is the function which will use the llm with tool knowledge\n",
    "# llm with tools know about the tools and decide if it wants to do a tool call or not\n",
    "def chat_bot_with_tools(state: State):\n",
    "    llm = ChatOpenAI(model=\"gpt-4o-mini\", temperature=0)\n",
    "    llm_with_tools = llm.bind_tools(tools)\n",
    "    response = llm_with_tools.invoke(state[\"messages\"])\n",
    "    return {\"messages\": [response]}\n",
    "\n",
    "# tool node is the node which will be used to call the tools\n",
    "toolNode = ToolNode(tools=tools)\n",
    "\n",
    "graph_builder.add_node(\"chat_bot\", chat_bot_with_tools)\n",
    "graph_builder.add_node(\"tools\", toolNode)\n",
    "\n",
    "graph_builder.add_edge(START, \"chat_bot\")\n",
    "graph_builder.add_conditional_edges(\"chat_bot\", tools_condition, \"tools\")\n",
    "graph_builder.add_edge(\"tools\", \"chat_bot\")\n",
    "graph_builder.add_edge(\"chat_bot\", END)"
   ]
  },
  {
   "cell_type": "markdown",
   "metadata": {},
   "source": [
    "Now the memory part"
   ]
  },
  {
   "cell_type": "code",
   "execution_count": 2,
   "metadata": {},
   "outputs": [],
   "source": [
    "from langgraph.checkpoint.memory import MemorySaver\n",
    "\n",
    "memory = MemorySaver()\n",
    "graph = graph_builder.compile(checkpointer=memory)"
   ]
  },
  {
   "cell_type": "markdown",
   "metadata": {},
   "source": [
    "Now to use the memory we need a config"
   ]
  },
  {
   "cell_type": "code",
   "execution_count": 3,
   "metadata": {},
   "outputs": [],
   "source": [
    "config = {\"configurable\": {\"thread_id\": \"1\"}}"
   ]
  },
  {
   "cell_type": "markdown",
   "metadata": {},
   "source": [
    "Now let us chat"
   ]
  },
  {
   "cell_type": "code",
   "execution_count": null,
   "metadata": {},
   "outputs": [],
   "source": [
    "import gradio as gr\n",
    "\n",
    "def chat(message, history):\n",
    "    # partial_response = \"\"\n",
    "    # for event in graph.stream({\"messages\": [{\"role\": \"user\", \"content\": message}]}):\n",
    "    #     for value in event.values():\n",
    "    #         print(\"Assistant:\", value[\"messages\"][-1].content)\n",
    "    #         partial_response += value[\"messages\"][-1].content\n",
    "    #         yield partial_response\n",
    "    response = graph.invoke({\"messages\": [{\"role\": \"user\", \"content\": message}]}, config)\n",
    "    return response[\"messages\"][-1].content\n",
    "    \n",
    "\n",
    "\n",
    "chat_interface = gr.ChatInterface(chat, type=\"messages\", theme=\"soft\")\n",
    "chat_interface.launch()"
   ]
  },
  {
   "cell_type": "code",
   "execution_count": 5,
   "metadata": {},
   "outputs": [
    {
     "name": "stdout",
     "output_type": "stream",
     "text": [
      "Closing server running on port: 7860\n"
     ]
    }
   ],
   "source": [
    "chat_interface.close()"
   ]
  }
 ],
 "metadata": {
  "kernelspec": {
   "display_name": ".venv",
   "language": "python",
   "name": "python3"
  },
  "language_info": {
   "codemirror_mode": {
    "name": "ipython",
    "version": 3
   },
   "file_extension": ".py",
   "mimetype": "text/x-python",
   "name": "python",
   "nbconvert_exporter": "python",
   "pygments_lexer": "ipython3",
   "version": "3.12.10"
  }
 },
 "nbformat": 4,
 "nbformat_minor": 2
}
