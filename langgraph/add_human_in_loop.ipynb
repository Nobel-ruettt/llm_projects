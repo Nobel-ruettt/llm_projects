{
 "cells": [
  {
   "cell_type": "code",
   "execution_count": 12,
   "id": "00b4b95b",
   "metadata": {},
   "outputs": [],
   "source": [
    "from typing import Annotated\n",
    "from dotenv import load_dotenv\n",
    "from typing_extensions import TypedDict\n",
    "from langgraph.graph.message import add_messages\n",
    "from langgraph.graph import StateGraph\n",
    "from langchain_openai import ChatOpenAI\n",
    "from langgraph.prebuilt import ToolNode\n",
    "from langgraph.graph import START, END\n",
    "from langgraph.prebuilt import tools_condition\n",
    "from langchain_community.tools import Tool\n",
    "from langchain_community.utilities import GoogleSerperAPIWrapper\n",
    "from langchain_core.tools import tool\n",
    "from langgraph.types import Command, interrupt\n",
    "\n",
    "load_dotenv(override=True)\n",
    "\n",
    "# Create the Serper search tool\n",
    "search = GoogleSerperAPIWrapper()\n",
    "serper_tool = Tool(\n",
    "    name=\"Search\",\n",
    "    func=search.run,\n",
    "    description=\"Useful for when you need to answer questions about current events or find up-to-date information\"\n",
    ")\n",
    "\n",
    "@tool\n",
    "def human_assistance(query: str) -> str:\n",
    "    \"\"\"Request assistance from a human.\"\"\"\n",
    "    human_response = interrupt({\"query\": query})\n",
    "    return human_response[\"data\"]\n",
    "\n",
    "tools = [serper_tool, human_assistance]"
   ]
  },
  {
   "cell_type": "code",
   "execution_count": 13,
   "id": "79cc1dfc",
   "metadata": {},
   "outputs": [],
   "source": [
    "class State(TypedDict):\n",
    "    messages: Annotated[list, add_messages]\n",
    "\n",
    "graph_builder = StateGraph(State)\n",
    "\n",
    "# chat bot with tools is the function which will use the llm with tool knowledge\n",
    "# llm with tools know about the tools and decide if it wants to do a tool call or not\n",
    "def chat_bot_with_tools(state: State):\n",
    "    llm = ChatOpenAI(model=\"gpt-4o-mini\", temperature=0)\n",
    "    llm_with_tools = llm.bind_tools(tools)\n",
    "    message = llm_with_tools.invoke(state[\"messages\"])\n",
    "    assert len(message.tool_calls) <= 1\n",
    "    return {\"messages\": [message]}\n",
    "\n",
    "# tool node is the node which will be used to call the tools\n",
    "toolNode = ToolNode(tools=tools)"
   ]
  },
  {
   "cell_type": "code",
   "execution_count": 14,
   "id": "1e995d66",
   "metadata": {},
   "outputs": [
    {
     "data": {
      "text/plain": [
       "<langgraph.graph.state.StateGraph at 0x1ca7c58b7a0>"
      ]
     },
     "execution_count": 14,
     "metadata": {},
     "output_type": "execute_result"
    }
   ],
   "source": [
    "graph_builder.add_node(\"chat_bot\", chat_bot_with_tools)\n",
    "graph_builder.add_node(\"tools\", toolNode)\n",
    "\n",
    "graph_builder.add_edge(START, \"chat_bot\")\n",
    "graph_builder.add_conditional_edges(\"chat_bot\", tools_condition, \"tools\")\n",
    "graph_builder.add_edge(\"tools\", \"chat_bot\")\n",
    "graph_builder.add_edge(\"chat_bot\", END)"
   ]
  },
  {
   "cell_type": "code",
   "execution_count": 15,
   "id": "5417b91e",
   "metadata": {},
   "outputs": [],
   "source": [
    "from langgraph.checkpoint.memory import MemorySaver\n",
    "\n",
    "memory = MemorySaver()\n",
    "graph = graph_builder.compile(checkpointer=memory)"
   ]
  },
  {
   "cell_type": "code",
   "execution_count": 16,
   "id": "c7e8da01",
   "metadata": {},
   "outputs": [
    {
     "data": {
      "image/png": "[encoded data removed]",
      "text/plain": [
       "<IPython.core.display.Image object>"
      ]
     },
     "metadata": {},
     "output_type": "display_data"
    }
   ],
   "source": [
    "from IPython.display import Image, display\n",
    "\n",
    "try:\n",
    "    display(Image(graph.get_graph().draw_mermaid_png()))\n",
    "except Exception:\n",
    "    # This requires some extra dependencies and is optional\n",
    "    pass"
   ]
  },
  {
   "cell_type": "code",
   "execution_count": 17,
   "id": "d5e31de5",
   "metadata": {},
   "outputs": [
    {
     "name": "stdout",
     "output_type": "stream",
     "text": [
      "================================\u001b[1m Human Message \u001b[0m=================================\n",
      "\n",
      "I need some expert guidance for building an AI agent. Could you request assistance for me?\n",
      "==================================\u001b[1m Ai Message \u001b[0m==================================\n",
      "Tool Calls:\n",
      "  human_assistance (call_nyoBmQI6u62ayvNF1CpWdLY1)\n",
      " Call ID: call_nyoBmQI6u62ayvNF1CpWdLY1\n",
      "  Args:\n",
      "    query: I need expert guidance for building an AI agent. Can you provide insights on the best practices, tools, and frameworks to use?\n"
     ]
    }
   ],
   "source": [
    "user_input = \"I need some expert guidance for building an AI agent. Could you request assistance for me?\"\n",
    "config = {\"configurable\": {\"thread_id\": \"1\"}}\n",
    "\n",
    "events = graph.stream(\n",
    "    {\"messages\": [{\"role\": \"user\", \"content\": user_input}]},\n",
    "    config,\n",
    "    stream_mode=\"values\",\n",
    ")\n",
    "for event in events:\n",
    "    if \"messages\" in event:\n",
    "        event[\"messages\"][-1].pretty_print()"
   ]
  },
  {
   "cell_type": "code",
   "execution_count": 18,
   "id": "6aecad58",
   "metadata": {},
   "outputs": [
    {
     "name": "stdout",
     "output_type": "stream",
     "text": [
      "==================================\u001b[1m Ai Message \u001b[0m==================================\n",
      "Tool Calls:\n",
      "  human_assistance (call_nyoBmQI6u62ayvNF1CpWdLY1)\n",
      " Call ID: call_nyoBmQI6u62ayvNF1CpWdLY1\n",
      "  Args:\n",
      "    query: I need expert guidance for building an AI agent. Can you provide insights on the best practices, tools, and frameworks to use?\n",
      "=================================\u001b[1m Tool Message \u001b[0m=================================\n",
      "Name: human_assistance\n",
      "\n",
      "We, the experts are here to help! We'd recommend you check out LangGraph to build your agent. It's much more reliable and extensible than simple autonomous agents.\n",
      "==================================\u001b[1m Ai Message \u001b[0m==================================\n",
      "\n",
      "For building an AI agent, it's recommended to check out **LangGraph**. It is considered more reliable and extensible compared to simple autonomous agents. If you have any specific questions or need further details about using LangGraph or other tools, feel free to ask!\n"
     ]
    }
   ],
   "source": [
    "human_response = (\n",
    "    \"We, the experts are here to help! We'd recommend you check out LangGraph to build your agent.\"\n",
    "    \" It's much more reliable and extensible than simple autonomous agents.\"\n",
    ")\n",
    "\n",
    "human_command = Command(resume={\"data\": human_response})\n",
    "\n",
    "events = graph.stream(human_command, config, stream_mode=\"values\")\n",
    "for event in events:\n",
    "    if \"messages\" in event:\n",
    "        event[\"messages\"][-1].pretty_print()"
   ]
  }
 ],
 "metadata": {
  "kernelspec": {
   "display_name": ".venv",
   "language": "python",
   "name": "python3"
  },
  "language_info": {
   "codemirror_mode": {
    "name": "ipython",
    "version": 3
   },
   "file_extension": ".py",
   "mimetype": "text/x-python",
   "name": "python",
   "nbconvert_exporter": "python",
   "pygments_lexer": "ipython3",
   "version": "3.12.10"
  }
 },
 "nbformat": 4,
 "nbformat_minor": 5
}
